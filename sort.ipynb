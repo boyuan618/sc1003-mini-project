{
 "cells": [
  {
   "cell_type": "markdown",
   "metadata": {},
   "source": [
    "## Team Members ##\n",
    "\n",
    "<ul>\n",
    "    <li>\n",
    "        Gu Boyuan GUBO0002@e.ntu.edu.sg\n",
    "    </li>\n",
    "    <li>\n",
    "        Feng Zhewen ZFENG006@e.ntu.edu.sg\n",
    "    </li>\n",
    "    <li>\n",
    "        Chen Ling Zheng CHEN1885@e.ntu.edu.sg\n",
    "    </li>\n",
    "    <li>\n",
    "        Chen Jia Wei JCHEN111@e.ntu.edu.sg\n",
    "    </li>\n",
    "    <li>\n",
    "        Chong Kai Ying CHON0226@e.ntu.edu.sg\n",
    "    </li> \n",
    "</ul>\n",
    "\n",
    "---"
   ]
  },
  {
   "cell_type": "markdown",
   "metadata": {},
   "source": [
    "## Problem Decomposition Processes ##\n",
    "\n",
    "### Subproblem: ###\n",
    "\n",
    "- **Constraints**: Teams must remain within the tutorial group.\n",
    "- Open the file in Python and convert it into a mutable data structure.\n",
    "- The first step is to separate the students into their respective tutorial groups using a list, file, or dictionary.\n",
    "- Create new teams based on the separated data.\n",
    "- Check the new team members to ensure correct assignment.\n",
    "- Swap members between teams if needed.\n",
    "- Export the updated teams into a new CSV file.\n",
    "---"
   ]
  },
  {
   "cell_type": "markdown",
   "metadata": {},
   "source": [
    "## Analyzing the Data\n",
    "\n",
    "### Key Insights:\n",
    "- **Repeated Names**: Since there are repeated names, they will not be used for analysis or sorting.\n",
    "- **Schools**: There are **18 different schools** in the dataset.\n",
    "- **CGPA**: CGPA values only have **58 unique values**, with:\n",
    "  - **Max CGPA**: 4.97\n",
    "  - **Min CGPA**: 3.7\n",
    "- **Gender Distribution**:\n",
    "  - **Boys**: 2759\n",
    "  - **Girls**: 3241\n",
    "\n",
    "---\n",
    "\n",
    "### School Breakdown:\n",
    "- **CCDS**: 702 students\n",
    "- **EEE**: 788 students\n",
    "- **CoB (NBS)**: 793 students\n",
    "- **SoH**: 332 students\n",
    "- **WKW SCI**: 150 students\n",
    "- **CoE**: 275 students\n",
    "- **MAE**: 512 students\n",
    "- **SPMS**: 276 students\n",
    "- **SBS**: 302 students\n",
    "- **SSS**: 425 students\n",
    "- **ASE**: 104 students\n",
    "- **NIE**: 199 students\n",
    "- **ADM**: 116 students\n",
    "- **CCEB**: 465 students\n",
    "- **MSE**: 156 students\n",
    "- **LKCMedicine**: 83 students\n",
    "- **CEE**: 321 students\n",
    "- **HASS**: 1 student (exception noted below)\n",
    "\n",
    "**Total**: 6000 students\n",
    "\n",
    "---\n",
    "\n",
    "### Exceptions:\n",
    "1. **HASS**: Only **1 student** from this school (exception).\n",
    "2. **High Female Ratios**:\n",
    "   - **TG103**: High girl ratio.\n",
    "   - **TG28**: High girl ratio.\n",
    "3. **TG97**: Gender ratio of **34 girls: 16 boys**.\n",
    "\n",
    "---"
   ]
  },
  {
   "cell_type": "markdown",
   "metadata": {},
   "source": [
    "# Pseudocode\n",
    "\n",
    "---\n",
    "\n",
    "\n",
    "# Student and Split_Student Classes\n",
    "\n",
    "## Initialize all_grouping\n",
    "- Create an empty list to store all the student groups.\n",
    "\n",
    "## Define Classes\n",
    "\n",
    "### Student Class:\n",
    "- **Attributes**: `tutorial_group`, `id`, `school`, `name`, `gender`, `cgpa`\n",
    "- **Constructor (`__init__`)**: Initialize the above attributes when creating a Student instance.\n",
    "\n",
    "### Split_Student Class:\n",
    "\n",
    "#### Constructor (`__init__`):\n",
    "- No parameters other than `self`. (Empty constructor)\n",
    "\n",
    "#### Method: `split_students_by_school`\n",
    "\n",
    "**Parameters**: `students`, `**kwargs`\n",
    "\n",
    "**Action**:\n",
    "- Create an empty dictionary `sorted_students`.\n",
    "- For each student in `students`, add the student to the corresponding school list in `sorted_students`.\n",
    "- Return the `sorted_students` dictionary.\n",
    "\n",
    "#### Method: `split_students_by_gender`\n",
    "\n",
    "**Parameters**: `students`, `**kwargs`\n",
    "\n",
    "**Action**:\n",
    "- Create a dictionary `sorted_students` with keys `\"Male\"` and `\"Female\"`, each containing an empty list.\n",
    "- For each student in `students`, add the student to the correct gender list in `sorted_students`.\n",
    "- Remove any empty gender lists.\n",
    "  \n",
    "**Check single-gender tutorial groups**:\n",
    "- If the male list is empty, remove it.\n",
    "- If the female list is empty, remove it.\n",
    "  \n",
    "- Return the `sorted_students` dictionary.\n",
    "\n",
    "#### Method: `split_students_by_cgpa`\n",
    "\n",
    "**Parameters**: `students`, `**kwargs`\n",
    "\n",
    "**Action**:\n",
    "- Extract the `size` value from `kwargs`.\n",
    "- Calculate `percentile` as `100 / size`.\n",
    "- Sort the `students` by `cgpa` in ascending order.\n",
    "- Create an empty dictionary `sorted_students` for CGPA bands.\n",
    "- Initialize `band_number` as 0 and calculate the `cutoff` using `percentile` and the total number of students.\n",
    "\n",
    "**While loop**:\n",
    "- Create a band for `band_number` by adding students up to the `cutoff` to `sorted_students`.\n",
    "- Remove the first `cutoff` number of students from `students`.\n",
    "- If there are no students left, break the loop.\n",
    "- Increment `band_number`.\n",
    "\n",
    "- Return the `sorted_students` dictionary.\n",
    "\n",
    "\n",
    "---"
   ]
  },
  {
   "cell_type": "markdown",
   "metadata": {},
   "source": [
    "### Pseudocode for Grouping Students\n",
    "\n",
    "1. **Initialize All Groupings**\n",
    "   - Set `all_grouping` as an empty list to store all the student groups.\n",
    "\n",
    "2. **Define Options**\n",
    "   - Set `school_choices` as the list of schools.\n",
    "   - Set `gender_choices` as a list containing `\"Male\"` repeated `number_of_males` times and `\"Female\"` repeated `(size - number_of_males)` times.\n",
    "   - Set `cgpa_choices` as a range of numbers from 0 to `size - 1` (representing CGPA bands).\n",
    "\n",
    "3. **Determine Factor Order**\n",
    "   - Create a dictionary mapping factors (`\"school\"`, `\"gender\"`, `\"cgpa\"`) to their respective options.\n",
    "   - Assign `first_choices`, `second_choices`, and `third_choices` based on `factor_order` to set the selection priority.\n",
    "\n",
    "4. **Track Number of Students Assigned**\n",
    "   - Initialize `students_assigned` as 0.\n",
    "\n",
    "5. **Loop Over `number_of_groups` to Create Each Group**\n",
    "\n",
    "   - **Copy Original Choices**\n",
    "     - Create `first_choices_not_chosen`, `second_choices_not_chosen`, and `third_choices_not_chosen` as copies of the original choices to track options used for each group.\n",
    "     - Initialize `current_group` as an empty list.\n",
    "     - Set `students_selected` to 0.\n",
    "\n",
    "   - **While `students_selected < size` and `students_assigned < total_students`** (to fill the group):\n",
    "     \n",
    "     - **Refresh Choices if Exhausted**\n",
    "       - If any `*_choices_not_chosen` list is empty, reset it using a deep copy of the original list.\n",
    "\n",
    "     - **Randomly Select a Choice for Each Factor**\n",
    "       - Use `random.seed(datetime)` to change the seed each time and increase randomness.\n",
    "       - Randomly pick one element from `first_choices_not_chosen`, `second_choices_not_chosen`, and `third_choices_not_chosen` and remove them from the lists.\n",
    "\n",
    "     - **Try to Find a Student**\n",
    "       - Attempt to get a student matching `first_choice`, `second_choice`, and `third_choice`.\n",
    "       - If a student is found:\n",
    "         - Add the student to `current_group`.\n",
    "         - Remove the student from the `students` data structure.\n",
    "         - Remove the used choices from `first_choices_not_chosen`, `second_choices_not_chosen`, and `third_choices_not_chosen`.\n",
    "         - Increment `students_selected` and `students_assigned` by 1.\n",
    "\n",
    "     - **Handle Selection Failures**\n",
    "       - If no student is found (due to an `IndexError` or `KeyError`):\n",
    "         - Remove the current choice from `*_choices_not_chosen` lists as needed.\n",
    "         - If lists are empty, reset them to their original copies to continue selecting.\n",
    "\n",
    "6. **After Forming Each Group**\n",
    "   - Add `current_group` to `all_grouping`.\n",
    "\n",
    "7. **Return the Result**\n",
    "   - Return `all_grouping`, which contains all the groups formed.\n",
    "\n",
    "---\n"
   ]
  },
  {
   "cell_type": "markdown",
   "metadata": {},
   "source": [
    "## Student Grouping and Sorting Pseudocode\n",
    "\n",
    "### Calculate Unique Counts for Each Factor\n",
    "\n",
    "1. **Calculate Unique Values**:\n",
    "   - Use `len(set())` on each list to find the unique count of values for each factor:\n",
    "     ```plaintext\n",
    "     schools = unique count of schools in students list\n",
    "     gender = unique count of genders in students list\n",
    "     cgpa_bands = unique count of CGPA bands in students list\n",
    "     ```\n",
    "\n",
    "2. **Determine Factor with Minimum Unique Values**:\n",
    "   - Use the `min()` function iteratively to find the factor with the least number of unique elements:\n",
    "     ```plaintext\n",
    "     factors = { \"school\": schools, \"gender\": gender, \"cgpa_bands\": cgpa_bands }\n",
    "     first_factor = factor with minimum unique values\n",
    "     remove first_factor from factors\n",
    "     second_factor = factor with minimum unique values\n",
    "     remove second_factor from factors\n",
    "     third_factor = remaining factor\n",
    "     ```\n",
    "\n",
    "---\n",
    "\n",
    "### Initialize Splitting Function and Sort Students by Factors\n",
    "\n",
    "1. **Initialize an Instance of Split_Student Class**:\n",
    "   - Create an instance of the `Split_Student` class, which will be used to split students based on each factor:\n",
    "     ```plaintext\n",
    "     splitting_functions = Split_Student()\n",
    "     ```\n",
    "\n",
    "2. **Sort Students by First Factor**:\n",
    "   - Sort students based on the `first_factor`, storing the results in `sorted_students`:\n",
    "     ```plaintext\n",
    "     sorted_students = sort students by first_factor using splitting_functions\n",
    "     ```\n",
    "\n",
    "3. **Sort by Second and Third Factors**:\n",
    "   - For each subgroup in `sorted_students`, sort by `second_factor`, and then for each subgroup in this second layer, sort by `third_factor`:\n",
    "     ```plaintext\n",
    "     for each subgroup in sorted_students:\n",
    "         sort by second_factor\n",
    "     for each subgroup in the second layer of sorted_students:\n",
    "         sort by third_factor\n",
    "     ```\n",
    "\n",
    "---\n",
    "\n",
    "### Calculate the Total Number of Groups\n",
    "\n",
    "1. **Calculate Groups**:\n",
    "   - Divide the total number of students by `size` (the number of students in each team), using `math.ceil` to round up results:\n",
    "     ```plaintext\n",
    "     no_of_groups = total number of groups needed\n",
    "     ```\n",
    "\n",
    "2. **Define Factor Order and Retrieve Unique Schools**:\n",
    "   - Define the order of factors and get a list of unique schools:\n",
    "     ```plaintext\n",
    "     factor_order = [first_factor, second_factor, third_factor]\n",
    "     schools = list of unique schools in students list\n",
    "     ```\n",
    "\n",
    "---\n",
    "\n",
    "### Assign Students to Groups Using `choose_students` Function\n",
    "\n",
    "1. **Group Assignment**:\n",
    "   - Use the function `choose_students()` to assign students to groups based on sorted criteria, and store the result in `final_grouping`:\n",
    "     ```plaintext\n",
    "     final_grouping = choose_students(sorted_students, schools, factor_order, no_of_groups, size)\n",
    "     ```\n",
    "\n",
    "---\n",
    "\n",
    "### Parse CSV File to Create Student Objects and Group Them\n",
    "\n",
    "1. **Read CSV File**:\n",
    "   - Open `records.csv`, stripping whitespace and splitting each line by commas.\n",
    "\n",
    "2. **Create Student Objects**:\n",
    "   - For each student entry:\n",
    "     - Retrieve `tutorial_group` and create a `Student` object.\n",
    "     - If `tutorial_group` exists in `all_tutorial_groups`, append the student to the group; otherwise, create a new entry in the dictionary:\n",
    "       ```plaintext\n",
    "       open records.csv file\n",
    "       student_data = parse each row, excluding header\n",
    "       for each record in student_data:\n",
    "           tutorial_group = get tutorial group from record\n",
    "           student = create Student object with record details\n",
    "           if tutorial_group exists in all_tutorial_groups:\n",
    "               append student to the list\n",
    "           else:\n",
    "               create new entry for tutorial_group with student in list\n",
    "       ```\n",
    "\n",
    "---\n",
    "\n",
    "### Store Each Tutorial Group's Teams in Final Grouping Dictionary\n",
    "\n",
    "1. **Initialize Final Grouping Dictionary**:\n",
    "   - Create `final_grouping` to store each tutorial group’s teams.\n",
    "\n",
    "2. **Sort Students into Teams**:\n",
    "   - For each `tutorial_group`, sort students into teams, then add the sorted teams to `final_grouping`:\n",
    "     ```plaintext\n",
    "     final_grouping = {}\n",
    "     for tutorial_group, students in all_tutorial_groups:\n",
    "         sorted_students = sort_students(students, size)\n",
    "         final_grouping[tutorial_group] = sorted_students\n",
    "     ```\n",
    "\n",
    "---\n",
    "\n",
    "### Write Final Grouping to CSV File\n",
    "\n",
    "1. **Open Final CSV File**:\n",
    "   - Open a new CSV file `final_grouping.csv` in write mode.\n",
    "\n",
    "2. **Write Header and Team Data**:\n",
    "   - Write the header row.\n",
    "   - For each `tutorial_group`:\n",
    "     - For each `team`:\n",
    "       - For each `student` in the team, write the student’s details to the file with their assigned team number.\n",
    "       - Increment the `group_number` after each team is written:\n",
    "         ```plaintext\n",
    "         open final_grouping.csv in write mode\n",
    "         write headers to file\n",
    "         group_number = 1\n",
    "         for each tutorial_group, students in final_grouping:\n",
    "             for each team in students:\n",
    "                 for each student in team:\n",
    "                     write student details and team number to file\n",
    "                 increment group_number by 1\n",
    "         ```\n",
    "\n",
    "---"
   ]
  },
  {
   "cell_type": "markdown",
   "metadata": {},
   "source": [
    "# Main Code "
   ]
  },
  {
   "cell_type": "code",
   "execution_count": 128,
   "metadata": {
    "id": "AFASQmBxJ_9R"
   },
   "outputs": [],
   "source": [
    "#imports\n",
    "import math, random, copy, datetime"
   ]
  },
  {
   "cell_type": "code",
   "execution_count": 129,
   "metadata": {
    "id": "-BA2JCRuJ_9T"
   },
   "outputs": [],
   "source": [
    "#Define Student structure\n",
    "class Student:\n",
    "    def __init__(self, tutorial_group, id, school, name, gender, cgpa) -> None:\n",
    "        \"\"\"To initialise a student object\n",
    "\n",
    "        Args:\n",
    "            tutorial_group (str): Student's class\n",
    "            id (int): Student indentifier\n",
    "            school (str): School that student belongs to\n",
    "            name (str): Name of student\n",
    "            gender (str): Either Male or Female\n",
    "            cgpa (float): GPA of the studen\n",
    "        \"\"\"\n",
    "        self.tutorial_group = tutorial_group\n",
    "        self.id = id\n",
    "        self.school = school\n",
    "        self.name = name\n",
    "        self.gender = gender\n",
    "        self.cgpa = cgpa"
   ]
  },
  {
   "cell_type": "code",
   "execution_count": 130,
   "metadata": {
    "id": "DMuUFPh8J_9W"
   },
   "outputs": [],
   "source": [
    "#Class of functions to split students\n",
    "class Split_Student:\n",
    "\n",
    "    def __init__(self):\n",
    "        pass\n",
    "\n",
    "\n",
    "    #Functions to split students into different categories\n",
    "    def split_students_by_school(self, students, **kwargs) -> dict:\n",
    "        \"\"\"Splits students by school\n",
    "\n",
    "        Args:\n",
    "            students (list): List of Student objects to be split\n",
    "\n",
    "        Returns:\n",
    "            dict: where key is the school, and the value is a list of students in the school\n",
    "        \"\"\"\n",
    "        #Seperate students by school\n",
    "        sorted_students = {}\n",
    "\n",
    "        for student in students:\n",
    "            if student.school not in sorted_students.keys(): #Current student's school is not recorded yet\n",
    "                sorted_students[student.school] = [student]\n",
    "\n",
    "            else: #student's school is already present\n",
    "                sorted_students[student.school].append(student)\n",
    "\n",
    "        return sorted_students\n",
    "\n",
    "\n",
    "    def split_students_by_gender(self, students, **kwargs) -> dict:\n",
    "        \"\"\"Splits students by gender\n",
    "\n",
    "        Args:\n",
    "            students (list): List of Student objects to be split\n",
    "\n",
    "        Returns:\n",
    "            dict: where key is the gender, and the value is a list of students split by gender\n",
    "        \"\"\"\n",
    "        #seperate into male & female\n",
    "        sorted_students = {\"Male\":[], \"Female\":[]}\n",
    "\n",
    "        for student in students:\n",
    "            if student.gender == \"Male\": #if student is male\n",
    "                sorted_students[\"Male\"].append(student)\n",
    "\n",
    "            else: #if student is female\n",
    "                sorted_students[\"Female\"].append(student)\n",
    "\n",
    "\n",
    "        #If no male or female, remove it from dict\n",
    "        if len(sorted_students[\"Male\"]) == 0:\n",
    "            del sorted_students[\"Male\"]\n",
    "\n",
    "        if len(sorted_students[\"Female\"]) == 0:\n",
    "            del sorted_students[\"Female\"]\n",
    "\n",
    "        return sorted_students\n",
    "\n",
    "\n",
    "    def split_students_by_cgpa(self, students, **kwargs) -> dict:\n",
    "        \"\"\"Splits students by cgpa\n",
    "\n",
    "        Args:\n",
    "            students (list): List of Student objects to be split\n",
    "            size (int): size of groups to sort into, expected to be input from kwargs\n",
    "\n",
    "        Returns:\n",
    "            dict: dict of where values are students split by cgpa and key their bands.\n",
    "        \"\"\"\n",
    "        #Retrieve number_of_groups input\n",
    "        size = kwargs[\"size\"]\n",
    "\n",
    "        #Find the splitting gpa, E.g. mean for 2 teams\n",
    "        percentile = 100/size\n",
    "\n",
    "        #Sort students based on cgpa first\n",
    "        students.sort(key=lambda student: student.cgpa)\n",
    "\n",
    "        #Split at the various percentiles\n",
    "        sorted_students = {}\n",
    "        band_number = 0\n",
    "        cutoff = math.ceil((percentile/100)*len(students))\n",
    "\n",
    "        while band_number < size:\n",
    "            sorted_students[band_number] = students[:cutoff]\n",
    "\n",
    "            #Remove assgined students from unassigned\n",
    "            del students[:cutoff]\n",
    "\n",
    "            #Check if any students left after the deletion, if no exit\n",
    "            if len(students) == 0:\n",
    "                break\n",
    "\n",
    "            #increment band_number\n",
    "            band_number += 1\n",
    "\n",
    "        return sorted_students"
   ]
  },
  {
   "cell_type": "code",
   "execution_count": null,
   "metadata": {},
   "outputs": [],
   "source": [
    "#Grouping students into their respective teams \n",
    "def choose_students(students, schools, factor_order, number_of_groups, size, number_of_males, total_students) -> list:\n",
    "    \"\"\"Splits students into number of groups specified, with balanced teams based on school, gender and cgpa\n",
    "\n",
    "    Args:\n",
    "        students (list): list of students splited and sorted by factor order\n",
    "        schools (list): list of schools that students are from\n",
    "        factor_order (list): list of which the factors were considered, with first factor considered at index 0\n",
    "        number_of_groups (int): number of groups to split into\n",
    "        size (int): Size of groups to sort into\n",
    "        number_of_males (int): Minimum number of males in each team\n",
    "        total_students (int): Total number of students\n",
    "\n",
    "    Returns:\n",
    "        list: Contains lists, where each list is a group of students\n",
    "    \"\"\"\n",
    "    #Initialise the final grouping list\n",
    "    all_grouping = []\n",
    "\n",
    "    #Possible profiles\n",
    "    school_choices = schools #Schools\n",
    "    gender_choices = [\"Male\"]*number_of_males + [\"Female\"]*(size-number_of_males)\n",
    "    cgpa_choices = [band for band in range(size)] #GPA bands\n",
    "    \n",
    "    \n",
    "    #Convert the choices in the same order, based on factor order\n",
    "    choices = {\"school\": school_choices, \"gender\": gender_choices, \"cgpa\": cgpa_choices}\n",
    "\n",
    "    first_choices = choices[factor_order[0]]\n",
    "    second_choices = choices[factor_order[1]]\n",
    "    third_choices = choices[factor_order[2]]\n",
    "\n",
    "\n",
    "    #Value of Students already assigned\n",
    "    students_assigned = 0\n",
    "    \n",
    "    for grouping in range(number_of_groups):\n",
    "        #Duplicate the choices so it can be edited, using copy.deepcopy() so it does not affect original copy\n",
    "        first_choices_not_chosen = copy.deepcopy(first_choices)\n",
    "        second_choices_not_chosen = copy.deepcopy(second_choices)\n",
    "        third_choices_not_chosen = copy.deepcopy(third_choices)\n",
    "\n",
    "        #For each group iteration\n",
    "        current_group = []\n",
    "        students_selected = 0\n",
    "        while students_selected < size and students_assigned < total_students: #Extra check to ensure that once all students are allocated it ends.\n",
    "        \n",
    "            #Refresh choices if exhausted\n",
    "            if len(first_choices_not_chosen) == 0: \n",
    "                first_choices_not_chosen = copy.deepcopy(first_choices)\n",
    "            \n",
    "            if len(second_choices_not_chosen) == 0: \n",
    "                second_choices_not_chosen = copy.deepcopy(second_choices)\n",
    "            \n",
    "            if len(third_choices_not_chosen) == 0: \n",
    "                third_choices_not_chosen = copy.deepcopy(third_choices)\n",
    "                \n",
    "                \n",
    "            #Select a school\n",
    "            random.seed(datetime.datetime.now().timestamp()) #Changes seed every time a random choice is made, increasing randomness\n",
    "            first_choice = random.choice(first_choices_not_chosen) #of those not chosen randomly choose 1\n",
    "\n",
    "\n",
    "            #Select a Gender\n",
    "            random.seed(datetime.datetime.now().timestamp()) #Changes seed every time a random choice is made, increasing randomness\n",
    "            second_choice = random.choice(second_choices_not_chosen) #of those not chosen randomly choose 1\n",
    "\n",
    "\n",
    "            #Select a cgpa band\n",
    "            random.seed(datetime.datetime.now().timestamp()) #Changes seed every time a random choice is made, increasing randomness\n",
    "            third_choice = random.choice(third_choices_not_chosen) #of those not chosen randomly choose 1\n",
    "            \n",
    "\n",
    "            try:\n",
    "                #Extract that student\n",
    "                chosen_one = students[first_choice][second_choice][third_choice][0] #Take the first one in the chosen profile\n",
    "\n",
    "                #Remove the chosen student from future choices\n",
    "                students[first_choice][second_choice][third_choice].remove(chosen_one)\n",
    "                \n",
    "                #Prevent repeat of same choice when there are other options\n",
    "                first_choices_not_chosen.remove(first_choice) \n",
    "                second_choices_not_chosen.remove(second_choice) \n",
    "                third_choices_not_chosen.remove(third_choice)\n",
    "                \n",
    "                \n",
    "                #Add the chosen student to the group\n",
    "                current_group.append(chosen_one)\n",
    "\n",
    "                #Increment the counter  \n",
    "                students_selected += 1\n",
    "                students_assigned += 1\n",
    "\n",
    "\n",
    "            except (IndexError, KeyError) as e:\n",
    "                #In the event of failure\n",
    "                #Remove current one only from third layer if not empty\n",
    "                if len(third_choices_not_chosen) > 1:\n",
    "                    third_choices_not_chosen.remove(third_choice)\n",
    "                \n",
    "                else:\n",
    "                    #If empty, refresh the list and attempt to remove current second choice\n",
    "                    third_choices_not_chosen = copy.deepcopy(third_choices)\n",
    "                    \n",
    "                    #Attempt to remove second choice\n",
    "                    if len(second_choices_not_chosen) > 1:\n",
    "                        second_choices_not_chosen.remove(second_choice) \n",
    "                    \n",
    "                    else:\n",
    "                        #If empty, refresh the list and attempt to remove current first choice\n",
    "                        second_choices_not_chosen = copy.deepcopy(second_choices)\n",
    "                    \n",
    "                        #Attempt to remove current first choice\n",
    "                        if len(first_choices_not_chosen) > 1: \n",
    "                            first_choices_not_chosen.remove(first_choice) \n",
    "                        \n",
    "                        else:\n",
    "                            #If empty, start generation afresh                            \n",
    "                            first_choices_not_chosen = copy.deepcopy(first_choices)\n",
    "                \n",
    "\n",
    "        #Add current group to all groups\n",
    "        all_grouping.append(current_group)\n",
    "\n",
    "\n",
    "    return all_grouping"
   ]
  },
  {
   "cell_type": "code",
   "execution_count": 132,
   "metadata": {
    "id": "8mHq3kZKJ_9X"
   },
   "outputs": [],
   "source": [
    "#Parent function to execute subfunctions for organising students and grouping into teams\n",
    "def sort_students(students, size) -> list:\n",
    "    \"\"\"Sort students based on School, Gender, CGPA in groups of given size\n",
    "\n",
    "    Args:\n",
    "        students (list): List of Student objects\n",
    "        size (int): Size of groups to sort into\n",
    "\n",
    "    Returns\n",
    "        list: list of students sorted into groups of given size\n",
    "    \"\"\"\n",
    "    #Decide order of factors based on unique values\n",
    "    schools = len(set([student.school for student in students]))\n",
    "    genders = len(set([student.gender for student in students]))\n",
    "    cgpa_bands = size #we are splitting gpa bands by number of ppl in each group\n",
    "\n",
    "    factors = {\"school\": schools, \"gender\": genders, \"cgpa\": cgpa_bands}\n",
    "\n",
    "    #First factor to consider\n",
    "    first_factor = min(factors, key=factors.get)\n",
    "    del factors[first_factor]\n",
    "\n",
    "    #Second factor to consider\n",
    "    second_factor = min(factors, key=factors.get)\n",
    "    del factors[second_factor]\n",
    "\n",
    "    #Third factor to consider\n",
    "    third_factor = min(factors, key=factors.get)\n",
    "    del factors[third_factor]\n",
    "\n",
    "\n",
    "    #Split and organise students based on order of factors\n",
    "    spliting_functions = Split_Student()\n",
    "    #First factor\n",
    "    sorted_students = getattr(spliting_functions, \"split_students_by_\" + first_factor)(students, size=size)\n",
    "\n",
    "    #Second factor\n",
    "    for first_key, first_value in sorted_students.items(): #Access Second layer\n",
    "        sorted_students[first_key] = getattr(spliting_functions, \"split_students_by_\" + second_factor)(first_value, size=size)\n",
    "\n",
    "    #Third factor\n",
    "    for first_key, first_value in sorted_students.items(): #Access Second layer\n",
    "        for second_key,second_value in first_value.items(): #Access Third layer\n",
    "            sorted_students[first_key][second_key] = getattr(spliting_functions, \"split_students_by_\" + third_factor)(second_value, size=size)\n",
    "\n",
    "\n",
    "    #Number of groups\n",
    "    no_of_groups = math.ceil(len(students)/size) #Rounded up\n",
    "\n",
    "    #Store the order of factors\n",
    "    factor_order = [first_factor, second_factor, third_factor]\n",
    "\n",
    "    #Get unique schools of students\n",
    "    schools = list(set([student.school for student in students]))\n",
    "    \n",
    "    #Get minimum number of males for each team to ensure gender balance\n",
    "    number_of_males = len([student.gender for student in students if student.gender == \"Male\"])//no_of_groups\n",
    "\n",
    "    #Group the students\n",
    "    final_grouping = choose_students(sorted_students, schools, factor_order, no_of_groups, size, number_of_males, len(students))\n",
    "\n",
    "    return final_grouping"
   ]
  },
  {
   "cell_type": "code",
   "execution_count": 133,
   "metadata": {
    "id": "LtB1ka9TJ_9Y"
   },
   "outputs": [],
   "source": [
    "def main():\n",
    "    #Extract and split the data\n",
    "    with open(\"records.csv\", \"r\") as records:\n",
    "        student_data = [record.strip().split(\",\") for record in records.readlines()[1:]] #Removing first row headers\n",
    "\n",
    "    #Ask the group size from the user\n",
    "    while True:\n",
    "        try:\n",
    "            size = int(input(\"How many students in each team: \").strip())\n",
    "            break #Break only if input is converted into an integer\n",
    "\n",
    "        except ValueError:\n",
    "            pass\n",
    "\n",
    "    #Initialize dictionary for all students\n",
    "    all_tutorial_groups = {}\n",
    "\n",
    "    #Apply the student class for easier access & move students into their tutorial groups\n",
    "    for record in student_data:\n",
    "        #Retrieve tutorial group\n",
    "        tutorial_group = record[0]\n",
    "\n",
    "        #Set up student object, attributes order: tutorial_group (str), id (int), school (str), name (str), gender (str), cgpa (float)\n",
    "        student = Student(record[0],int(record[1]),record[2],record[3],record[4],float(record[5]))\n",
    "\n",
    "        if tutorial_group in all_tutorial_groups.keys(): #If there was already a student from this group\n",
    "            all_tutorial_groups[tutorial_group].append(student)\n",
    "\n",
    "        else: #This tutorial group is not included yet\n",
    "            all_tutorial_groups[tutorial_group] = [student] #Create new entry, with value being a list containing the student\n",
    "\n",
    "\n",
    "    #Perform grouping for all students\n",
    "    final_grouping = {}\n",
    "    for tutorial_group, students in all_tutorial_groups.items():\n",
    "        #For us to know progress\n",
    "        print(f\"Currently sorting tutorial group: {tutorial_group}\")\n",
    "\n",
    "        #Sort into their groups\n",
    "        sorted_students = sort_students(students, size)\n",
    "\n",
    "        #Store the sorted students\n",
    "        final_grouping[tutorial_group] = sorted_students\n",
    "\n",
    "\n",
    "    #Output the final grouping (Parse it back into the orginal csv format)\n",
    "    group_number = 1\n",
    "    with open(\"final_grouping.csv\", \"w+\") as output:\n",
    "        #Write headers\n",
    "        output.write(\"Tutorial_Group,Student ID,School,Name,Gender,CGPA,Team Assigned\\n\")\n",
    "        for tutorial_group, students in final_grouping.items():\n",
    "            for group in students:\n",
    "                for student in group:\n",
    "                    output.write(f\"{tutorial_group},{student.id},{student.school},{student.name},{student.gender},{student.cgpa},{group_number}\\n\")\n",
    "\n",
    "                #Increment group number by 1 after current group is complete\n",
    "                group_number += 1"
   ]
  },
  {
   "cell_type": "code",
   "execution_count": 134,
   "metadata": {
    "id": "APftNSB3wD3E",
    "outputId": "c9506df4-4d1e-4f59-caf3-6f1fb824fb89"
   },
   "outputs": [
    {
     "name": "stdout",
     "output_type": "stream",
     "text": [
      "Currently sorting tutorial group: G-1\n",
      "Currently sorting tutorial group: G-10\n",
      "Currently sorting tutorial group: G-100\n",
      "Currently sorting tutorial group: G-101\n",
      "Currently sorting tutorial group: G-102\n",
      "Currently sorting tutorial group: G-103\n",
      "Currently sorting tutorial group: G-104\n",
      "Currently sorting tutorial group: G-105\n",
      "Currently sorting tutorial group: G-106\n",
      "Currently sorting tutorial group: G-107\n",
      "Currently sorting tutorial group: G-108\n",
      "Currently sorting tutorial group: G-109\n",
      "Currently sorting tutorial group: G-11\n",
      "Currently sorting tutorial group: G-110\n",
      "Currently sorting tutorial group: G-111\n",
      "Currently sorting tutorial group: G-112\n",
      "Currently sorting tutorial group: G-113\n",
      "Currently sorting tutorial group: G-114\n",
      "Currently sorting tutorial group: G-115\n",
      "Currently sorting tutorial group: G-116\n",
      "Currently sorting tutorial group: G-117\n",
      "Currently sorting tutorial group: G-118\n",
      "Currently sorting tutorial group: G-119\n",
      "Currently sorting tutorial group: G-12\n",
      "Currently sorting tutorial group: G-120\n",
      "Currently sorting tutorial group: G-13\n",
      "Currently sorting tutorial group: G-14\n",
      "Currently sorting tutorial group: G-15\n",
      "Currently sorting tutorial group: G-16\n",
      "Currently sorting tutorial group: G-17\n",
      "Currently sorting tutorial group: G-18\n",
      "Currently sorting tutorial group: G-19\n",
      "Currently sorting tutorial group: G-2\n",
      "Currently sorting tutorial group: G-20\n",
      "Currently sorting tutorial group: G-21\n",
      "Currently sorting tutorial group: G-22\n",
      "Currently sorting tutorial group: G-23\n",
      "Currently sorting tutorial group: G-24\n",
      "Currently sorting tutorial group: G-25\n",
      "Currently sorting tutorial group: G-26\n",
      "Currently sorting tutorial group: G-27\n",
      "Currently sorting tutorial group: G-28\n",
      "Currently sorting tutorial group: G-29\n",
      "Currently sorting tutorial group: G-3\n",
      "Currently sorting tutorial group: G-30\n",
      "Currently sorting tutorial group: G-31\n",
      "Currently sorting tutorial group: G-32\n",
      "Currently sorting tutorial group: G-33\n",
      "Currently sorting tutorial group: G-34\n",
      "Currently sorting tutorial group: G-35\n",
      "Currently sorting tutorial group: G-36\n",
      "Currently sorting tutorial group: G-37\n",
      "Currently sorting tutorial group: G-38\n",
      "Currently sorting tutorial group: G-39\n",
      "Currently sorting tutorial group: G-4\n",
      "Currently sorting tutorial group: G-40\n",
      "Currently sorting tutorial group: G-41\n",
      "Currently sorting tutorial group: G-42\n",
      "Currently sorting tutorial group: G-43\n",
      "Currently sorting tutorial group: G-44\n",
      "Currently sorting tutorial group: G-45\n",
      "Currently sorting tutorial group: G-46\n",
      "Currently sorting tutorial group: G-47\n",
      "Currently sorting tutorial group: G-48\n",
      "Currently sorting tutorial group: G-49\n",
      "Currently sorting tutorial group: G-5\n",
      "Currently sorting tutorial group: G-50\n",
      "Currently sorting tutorial group: G-51\n",
      "Currently sorting tutorial group: G-52\n",
      "Currently sorting tutorial group: G-53\n",
      "Currently sorting tutorial group: G-54\n",
      "Currently sorting tutorial group: G-55\n",
      "Currently sorting tutorial group: G-56\n",
      "Currently sorting tutorial group: G-57\n",
      "Currently sorting tutorial group: G-58\n",
      "Currently sorting tutorial group: G-59\n",
      "Currently sorting tutorial group: G-6\n",
      "Currently sorting tutorial group: G-60\n",
      "Currently sorting tutorial group: G-61\n",
      "Currently sorting tutorial group: G-62\n",
      "Currently sorting tutorial group: G-63\n",
      "Currently sorting tutorial group: G-64\n",
      "Currently sorting tutorial group: G-65\n",
      "Currently sorting tutorial group: G-66\n",
      "Currently sorting tutorial group: G-67\n",
      "Currently sorting tutorial group: G-68\n",
      "Currently sorting tutorial group: G-69\n",
      "Currently sorting tutorial group: G-7\n",
      "Currently sorting tutorial group: G-70\n",
      "Currently sorting tutorial group: G-71\n",
      "Currently sorting tutorial group: G-72\n",
      "Currently sorting tutorial group: G-73\n",
      "Currently sorting tutorial group: G-74\n",
      "Currently sorting tutorial group: G-75\n",
      "Currently sorting tutorial group: G-76\n",
      "Currently sorting tutorial group: G-77\n",
      "Currently sorting tutorial group: G-78\n",
      "Currently sorting tutorial group: G-79\n",
      "Currently sorting tutorial group: G-8\n",
      "Currently sorting tutorial group: G-80\n",
      "Currently sorting tutorial group: G-81\n",
      "Currently sorting tutorial group: G-82\n",
      "Currently sorting tutorial group: G-83\n",
      "Currently sorting tutorial group: G-84\n",
      "Currently sorting tutorial group: G-85\n",
      "Currently sorting tutorial group: G-86\n",
      "Currently sorting tutorial group: G-87\n",
      "Currently sorting tutorial group: G-88\n",
      "Currently sorting tutorial group: G-89\n",
      "Currently sorting tutorial group: G-9\n",
      "Currently sorting tutorial group: G-90\n",
      "Currently sorting tutorial group: G-91\n",
      "Currently sorting tutorial group: G-92\n",
      "Currently sorting tutorial group: G-93\n",
      "Currently sorting tutorial group: G-94\n",
      "Currently sorting tutorial group: G-95\n",
      "Currently sorting tutorial group: G-96\n",
      "Currently sorting tutorial group: G-97\n",
      "Currently sorting tutorial group: G-98\n",
      "Currently sorting tutorial group: G-99\n"
     ]
    }
   ],
   "source": [
    "if __name__ == \"__main__\":\n",
    "    main()"
   ]
  },
  {
   "cell_type": "markdown",
   "metadata": {},
   "source": [
    "---"
   ]
  },
  {
   "cell_type": "markdown",
   "metadata": {},
   "source": [
    "# Evaluation of Results "
   ]
  },
  {
   "cell_type": "code",
   "execution_count": 135,
   "metadata": {},
   "outputs": [],
   "source": [
    "# IMPORTING ALL LIBRARIES\n",
    "import matplotlib\n",
    "import matplotlib.pyplot as plt\n",
    "from matplotlib import style\n",
    "import plotly.express as px"
   ]
  },
  {
   "cell_type": "code",
   "execution_count": 136,
   "metadata": {},
   "outputs": [],
   "source": [
    "# Import CSV file\n",
    "# RETURNS ENTIRE CSV AS A LIST OF DICTIONARIES\n",
    "\n",
    "def r_file(filestr):\n",
    "    # Parse CSV File\n",
    "    infile = open(filestr)\n",
    "\n",
    "    column_names = infile.readline()                          # Save 1st row (column names) in a string\n",
    "    keys = column_names[0:-1]                                 # Removes /n from string\n",
    "    keys = keys.split(\",\")                                    # Save column names as individual elements in list\n",
    "\n",
    "    number_of_columns = len(keys)                             # Total number of columns in dataset\n",
    "    data = infile.readlines()                                 # Pull the rest of the csv file\n",
    "\n",
    "    list_of_rows = list()                                     # Initialise buffer list that temporarily stores all data\n",
    "    for row in data:                                          # Saves each row as a list inside a list\n",
    "        row = row[0:-1]                                       # Removes /n from end of string\n",
    "        list_of_rows.append(row.split(\",\"))                   # Append entire row into list\n",
    "\n",
    "    infile.close()                                            # Closes CSV file, allows saving of file\n",
    "\n",
    "    list_of_dictionaries = []                                 # Initialise List that will contain Dictionaries\n",
    "    for item in list_of_rows:\n",
    "        row_as_a_dictionary = {}                              # Dictionary Data Type\n",
    "        for i in range(number_of_columns):\n",
    "            row_as_a_dictionary[keys[i]] = item[i]            # Key number increments from 0\n",
    "        list_of_dictionaries.append(row_as_a_dictionary)      # Stores Dictionary into a List\n",
    "\n",
    "    return(list_of_dictionaries)\n"
   ]
  },
  {
   "cell_type": "code",
   "execution_count": 137,
   "metadata": {},
   "outputs": [],
   "source": [
    "# FUNCTION TO RECIEVE USER INPUT + CORRESPONDING DATA\n",
    "\n",
    "def plotter(filestr):\n",
    "\n",
    "    # checks for invalid group number entered\n",
    "    while True:\n",
    "        try:\n",
    "            group = int(input(\"Input tutorial group (if you want to enter G-1, enter 1): \"))\n",
    "            break\n",
    "        except ValueError:\n",
    "            print(\"Invalid group number entered. Try again.\")\n",
    "\n",
    "\n",
    "    # reading new CSV file + all data in dic\n",
    "    dic_data = r_file(filestr)\n",
    "\n",
    "    # returns dic of the chosen group\n",
    "    data_group_chosen = [student for student in dic_data if student[\"Tutorial_Group\"] == f\"G-{group}\"]\n",
    "    return data_group_chosen, group"
   ]
  },
  {
   "cell_type": "code",
   "execution_count": 138,
   "metadata": {},
   "outputs": [],
   "source": [
    "# for generating dot plot\n",
    "\n",
    "def dot(data_group_chosen, group):\n",
    "    all_cgpas = [float(student[\"CGPA\"]) for student in data_group_chosen]\n",
    "    all_student_teams = [student[\"Team Assigned\"] for student in data_group_chosen]\n",
    "\n",
    "    # combining both data into a new dictionary\n",
    "    data = [{\"CGPA\": cgpa, \"Team\": team} for team, cgpa in zip(all_student_teams, all_cgpas)]\n",
    "\n",
    "    # create the plot\n",
    "    fig = px.strip(data, x = \"CGPA\", y = \"Team\", title = f\"CGPA distribution in each team in Tutorial Group {group}\", stripmode = \"overlay\")\n",
    "\n",
    "    fig.show()"
   ]
  },
  {
   "cell_type": "code",
   "execution_count": 139,
   "metadata": {},
   "outputs": [],
   "source": [
    "# function for plotting bar chart for schools\n",
    "# data only contains that group's member details\n",
    "\n",
    "def bar_school(data, group):\n",
    "    #generate the total no. of unique schools\n",
    "    different_schools_with_repetition = (student[\"School\"] for student in data)\n",
    "    different_schools = []\n",
    "    for element in different_schools_with_repetition:\n",
    "      if element not in different_schools:\n",
    "        different_schools.append(element)\n",
    "\n",
    "    #create a dictionary to hold values for each school and put it in a list (should be updated after every team)\n",
    "    list_of_school_dict = []\n",
    "\n",
    "    teams_tally_with_repetitions = sorted(student[\"Team Assigned\"] for student in data)\n",
    "\n",
    "    teams_tally = []\n",
    "\n",
    "  #retrieve only the unique elements within teams_tally_with_repetitions\n",
    "    for element in teams_tally_with_repetitions:\n",
    "      if element not in teams_tally:\n",
    "        teams_tally.append(element)\n",
    "\n",
    "      #iterate through all the teams in a tutorial group\n",
    "    for team in teams_tally:\n",
    "\n",
    "          #iterate through all different schools in a team of a tutorial group\n",
    "          dict_school = {school: 0 for school in different_schools}\n",
    "\n",
    "          # Iterate over each student record\n",
    "          for student in data:\n",
    "              # Check if the student is in the current team\n",
    "              if student[\"Team Assigned\"] == team and student[\"School\"] in dict_school:\n",
    "                  dict_school[student[\"School\"]] +=1       # Count number of student from each school\n",
    "\n",
    "          list_of_school_dict.append(dict_school)\n",
    "\n",
    "\n",
    "      # Step 1: create dic with key with the value being initialised to an empty list initially\n",
    "    school_counts = {school: [] for school in list_of_school_dict[0]}\n",
    "\n",
    "      # Step 2: Iterate through each team's dictionary in list_of_school_dict\n",
    "    for team_dic in list_of_school_dict:\n",
    "          # Step 3: Append the count for each school to its list\n",
    "        for school in school_counts:\n",
    "              school_counts[school].append(team_dic[school])\n",
    "\n",
    "\n",
    "      # put keys and values from dictionary into lists\n",
    "    schools = list(school_counts.keys())\n",
    "    values = [school_counts[school] for school in schools] #list of values corresponding to no. of students in a school in different teams in a bigger list\n",
    "\n",
    "      #make a list of colors which each school can be assigned to\n",
    "    colors_to_pick_from = [\n",
    "          \"Red\", \"Green\", \"Blue\", \"Cyan\", \"Magenta\",\n",
    "          \"Yellow\", \"Black\", \"Gold\", \"Orange\",\n",
    "          \"Purple\", \"Pink\", \"Brown\", \"Grey\",\n",
    "          \"lightblue\", \"darkred\", \"darkgreen\",\n",
    "          \"navy\", \"lavender\"\n",
    "      ]\n",
    "\n",
    "    xpos = list(range(len(teams_tally)))\n",
    "    barWidth = 0.4\n",
    "    bottom = [0] * len(teams_tally)  # create a list ten '0's for bottom which will be updated with new value of bottom after iterating through no. of students in each school\n",
    "\n",
    "    plt.figure(figsize=(20, 7))\n",
    "\n",
    "    for no_of_students_from_each_school, color, school_name in zip(values, colors_to_pick_from, schools):\n",
    "        plt.bar(xpos, no_of_students_from_each_school, bottom=bottom, color=color, width=barWidth, label=school_name)\n",
    "          # update bottom with current value of each school\n",
    "        bottom = [a + b for a, b in zip(bottom, no_of_students_from_each_school)]  # current no. of students in a school + increase in no. of students for each team\n",
    "\n",
    "      # adding all labels\n",
    "    plt.xlabel(\"Teams Distribution\", fontsize = \"20\")\n",
    "    plt.ylabel(\"Number of students\", fontsize = \"20\")\n",
    "    plt.title(f\"School distribution of teams in Tutorial group {group}\", fontsize = \"30\")\n",
    "    plt.xticks(xpos, teams_tally, fontsize = \"15\")\n",
    "\n",
    "      # bbox: x moves legend away by 0.1 away from the edge; y = keeps legend aligned at the top\n",
    "    plt.legend(bbox_to_anchor = (1.1, 1), loc = \"upper left\", fontsize = \"15\")\n",
    "\n",
    "      # automatically adjust all elements such that they don't overlap\n",
    "    plt.tight_layout()\n",
    "\n",
    "    plt.show()\n",
    "\n"
   ]
  },
  {
   "cell_type": "code",
   "execution_count": 140,
   "metadata": {},
   "outputs": [],
   "source": [
    "# function for plotting bar chart for gender distribution\n",
    "\n",
    "def bar_gender(data, group):\n",
    "\n",
    "    #create a list to hold numbers of girls/guys in each team\n",
    "    girls_in_tutorial_group =[]\n",
    "    guys_in_tutorial_group =[]\n",
    "\n",
    "    #creates list of all possible unique teams in the tutorial group we are checking\n",
    "    teams_tally = set(student[\"Team Assigned\"] for student in data) #set ensures that all the elements generated are unique\n",
    "    teams_tally = sorted(teams_tally) #cite stackoverflow\n",
    "\n",
    "    for team in teams_tally:\n",
    "        female_count = 0  # Resets to 0 for each team\n",
    "        male_count = 0    # Resets to 0 for each team\n",
    "\n",
    "        # Iterate over each student record\n",
    "        for student in data:\n",
    "            # Check if the student is in the specified tutorial group and the current team\n",
    "            if student[\"Team Assigned\"] == team:\n",
    "                # Count female and male students\n",
    "                if student[\"Gender\"]== \"Female\":\n",
    "                    female_count += 1\n",
    "                elif student[\"Gender\"]== \"Male\":\n",
    "                    male_count += 1\n",
    "\n",
    "        # Append the counts for this team to the respective lists\n",
    "        girls_in_tutorial_group.append(female_count)\n",
    "        guys_in_tutorial_group.append(male_count)\n",
    "\n",
    "    #plot data for girls\n",
    "    xpos = list(range(len(girls_in_tutorial_group)))\n",
    "    plt.figure(figsize=(10, 7))\n",
    "    barWidth = 0.3\n",
    "    plt.bar (xpos,girls_in_tutorial_group,color='red',width = barWidth,label = 'Females')\n",
    "\n",
    "    #plot data for guys\n",
    "    plt.bar([x + barWidth for x in xpos], guys_in_tutorial_group, color='blue', width=barWidth, label=\"Males\")\n",
    "\n",
    "    # x-axis label, y-axis label, and legend respectively\n",
    "    plt.xlabel('Teams')\n",
    "    plt.ylabel('Number of Each Gender')\n",
    "    plt.legend()\n",
    "\n",
    "    # Labeling for each team in the tutorial group\n",
    "    plt.xticks([x + barWidth / 2 for x in xpos], teams_tally)\n",
    "\n",
    "\n",
    "    #naming our graph\n",
    "    plt.title(f\"Gender distribution per team in Tutorial Group {group}\")\n",
    "\n"
   ]
  },
  {
   "cell_type": "code",
   "execution_count": 141,
   "metadata": {},
   "outputs": [],
   "source": [
    "def main_graph():\n",
    "    write_filstr = \"final_grouping.csv\"\n",
    "    data_group_chosen, group = plotter(write_filstr)\n",
    "\n",
    "    # generating dot plots\n",
    "    dot(data_group_chosen, group)\n",
    "\n",
    "    # generating bar charts\n",
    "    bar_school(data_group_chosen, group)\n",
    "    bar_gender(data_group_chosen, group)\n",
    "    "
   ]
  },
  {
   "cell_type": "code",
   "execution_count": 142,
   "metadata": {},
   "outputs": [
    {
     "data": {
      "application/vnd.plotly.v1+json": {
       "config": {
        "plotlyServerURL": "https://plot.ly"
       },
       "data": [
        {
         "alignmentgroup": "True",
         "boxpoints": "all",
         "fillcolor": "rgba(255,255,255,0)",
         "hoveron": "points",
         "hovertemplate": "CGPA=%{x}<br>Team=%{y}<extra></extra>",
         "legendgroup": "",
         "line": {
          "color": "rgba(255,255,255,0)"
         },
         "marker": {
          "color": "#636efa"
         },
         "name": "",
         "offsetgroup": "",
         "orientation": "h",
         "pointpos": 0,
         "showlegend": false,
         "type": "box",
         "x": [
          4.1,
          4.18,
          4.48,
          4.02,
          4,
          4.22,
          4.17,
          4.12,
          4.06,
          3.93,
          4.52,
          4.2,
          4.08,
          4.06,
          3.88,
          4.01,
          4.03,
          4.18,
          4.22,
          3.95,
          3.85,
          4.08,
          4.19,
          3.95,
          4.06,
          4.09,
          4.14,
          4.02,
          4.04,
          4.12,
          4.26,
          4.11,
          4.04,
          4.2,
          4.19,
          4.09,
          4.03,
          4.06,
          4.15,
          4.07,
          4.11,
          4.01,
          4.2,
          4.05,
          4.09,
          4.11,
          4.03,
          4.12,
          4.03,
          3.88
         ],
         "x0": " ",
         "xaxis": "x",
         "y": [
          "1",
          "1",
          "1",
          "1",
          "1",
          "2",
          "2",
          "2",
          "2",
          "2",
          "3",
          "3",
          "3",
          "3",
          "3",
          "4",
          "4",
          "4",
          "4",
          "4",
          "5",
          "5",
          "5",
          "5",
          "5",
          "6",
          "6",
          "6",
          "6",
          "6",
          "7",
          "7",
          "7",
          "7",
          "7",
          "8",
          "8",
          "8",
          "8",
          "8",
          "9",
          "9",
          "9",
          "9",
          "9",
          "10",
          "10",
          "10",
          "10",
          "10"
         ],
         "y0": " ",
         "yaxis": "y"
        }
       ],
       "layout": {
        "boxmode": "overlay",
        "legend": {
         "tracegroupgap": 0
        },
        "template": {
         "data": {
          "bar": [
           {
            "error_x": {
             "color": "#2a3f5f"
            },
            "error_y": {
             "color": "#2a3f5f"
            },
            "marker": {
             "line": {
              "color": "#E5ECF6",
              "width": 0.5
             },
             "pattern": {
              "fillmode": "overlay",
              "size": 10,
              "solidity": 0.2
             }
            },
            "type": "bar"
           }
          ],
          "barpolar": [
           {
            "marker": {
             "line": {
              "color": "#E5ECF6",
              "width": 0.5
             },
             "pattern": {
              "fillmode": "overlay",
              "size": 10,
              "solidity": 0.2
             }
            },
            "type": "barpolar"
           }
          ],
          "carpet": [
           {
            "aaxis": {
             "endlinecolor": "#2a3f5f",
             "gridcolor": "white",
             "linecolor": "white",
             "minorgridcolor": "white",
             "startlinecolor": "#2a3f5f"
            },
            "baxis": {
             "endlinecolor": "#2a3f5f",
             "gridcolor": "white",
             "linecolor": "white",
             "minorgridcolor": "white",
             "startlinecolor": "#2a3f5f"
            },
            "type": "carpet"
           }
          ],
          "choropleth": [
           {
            "colorbar": {
             "outlinewidth": 0,
             "ticks": ""
            },
            "type": "choropleth"
           }
          ],
          "contour": [
           {
            "colorbar": {
             "outlinewidth": 0,
             "ticks": ""
            },
            "colorscale": [
             [
              0,
              "#0d0887"
             ],
             [
              0.1111111111111111,
              "#46039f"
             ],
             [
              0.2222222222222222,
              "#7201a8"
             ],
             [
              0.3333333333333333,
              "#9c179e"
             ],
             [
              0.4444444444444444,
              "#bd3786"
             ],
             [
              0.5555555555555556,
              "#d8576b"
             ],
             [
              0.6666666666666666,
              "#ed7953"
             ],
             [
              0.7777777777777778,
              "#fb9f3a"
             ],
             [
              0.8888888888888888,
              "#fdca26"
             ],
             [
              1,
              "#f0f921"
             ]
            ],
            "type": "contour"
           }
          ],
          "contourcarpet": [
           {
            "colorbar": {
             "outlinewidth": 0,
             "ticks": ""
            },
            "type": "contourcarpet"
           }
          ],
          "heatmap": [
           {
            "colorbar": {
             "outlinewidth": 0,
             "ticks": ""
            },
            "colorscale": [
             [
              0,
              "#0d0887"
             ],
             [
              0.1111111111111111,
              "#46039f"
             ],
             [
              0.2222222222222222,
              "#7201a8"
             ],
             [
              0.3333333333333333,
              "#9c179e"
             ],
             [
              0.4444444444444444,
              "#bd3786"
             ],
             [
              0.5555555555555556,
              "#d8576b"
             ],
             [
              0.6666666666666666,
              "#ed7953"
             ],
             [
              0.7777777777777778,
              "#fb9f3a"
             ],
             [
              0.8888888888888888,
              "#fdca26"
             ],
             [
              1,
              "#f0f921"
             ]
            ],
            "type": "heatmap"
           }
          ],
          "heatmapgl": [
           {
            "colorbar": {
             "outlinewidth": 0,
             "ticks": ""
            },
            "colorscale": [
             [
              0,
              "#0d0887"
             ],
             [
              0.1111111111111111,
              "#46039f"
             ],
             [
              0.2222222222222222,
              "#7201a8"
             ],
             [
              0.3333333333333333,
              "#9c179e"
             ],
             [
              0.4444444444444444,
              "#bd3786"
             ],
             [
              0.5555555555555556,
              "#d8576b"
             ],
             [
              0.6666666666666666,
              "#ed7953"
             ],
             [
              0.7777777777777778,
              "#fb9f3a"
             ],
             [
              0.8888888888888888,
              "#fdca26"
             ],
             [
              1,
              "#f0f921"
             ]
            ],
            "type": "heatmapgl"
           }
          ],
          "histogram": [
           {
            "marker": {
             "pattern": {
              "fillmode": "overlay",
              "size": 10,
              "solidity": 0.2
             }
            },
            "type": "histogram"
           }
          ],
          "histogram2d": [
           {
            "colorbar": {
             "outlinewidth": 0,
             "ticks": ""
            },
            "colorscale": [
             [
              0,
              "#0d0887"
             ],
             [
              0.1111111111111111,
              "#46039f"
             ],
             [
              0.2222222222222222,
              "#7201a8"
             ],
             [
              0.3333333333333333,
              "#9c179e"
             ],
             [
              0.4444444444444444,
              "#bd3786"
             ],
             [
              0.5555555555555556,
              "#d8576b"
             ],
             [
              0.6666666666666666,
              "#ed7953"
             ],
             [
              0.7777777777777778,
              "#fb9f3a"
             ],
             [
              0.8888888888888888,
              "#fdca26"
             ],
             [
              1,
              "#f0f921"
             ]
            ],
            "type": "histogram2d"
           }
          ],
          "histogram2dcontour": [
           {
            "colorbar": {
             "outlinewidth": 0,
             "ticks": ""
            },
            "colorscale": [
             [
              0,
              "#0d0887"
             ],
             [
              0.1111111111111111,
              "#46039f"
             ],
             [
              0.2222222222222222,
              "#7201a8"
             ],
             [
              0.3333333333333333,
              "#9c179e"
             ],
             [
              0.4444444444444444,
              "#bd3786"
             ],
             [
              0.5555555555555556,
              "#d8576b"
             ],
             [
              0.6666666666666666,
              "#ed7953"
             ],
             [
              0.7777777777777778,
              "#fb9f3a"
             ],
             [
              0.8888888888888888,
              "#fdca26"
             ],
             [
              1,
              "#f0f921"
             ]
            ],
            "type": "histogram2dcontour"
           }
          ],
          "mesh3d": [
           {
            "colorbar": {
             "outlinewidth": 0,
             "ticks": ""
            },
            "type": "mesh3d"
           }
          ],
          "parcoords": [
           {
            "line": {
             "colorbar": {
              "outlinewidth": 0,
              "ticks": ""
             }
            },
            "type": "parcoords"
           }
          ],
          "pie": [
           {
            "automargin": true,
            "type": "pie"
           }
          ],
          "scatter": [
           {
            "fillpattern": {
             "fillmode": "overlay",
             "size": 10,
             "solidity": 0.2
            },
            "type": "scatter"
           }
          ],
          "scatter3d": [
           {
            "line": {
             "colorbar": {
              "outlinewidth": 0,
              "ticks": ""
             }
            },
            "marker": {
             "colorbar": {
              "outlinewidth": 0,
              "ticks": ""
             }
            },
            "type": "scatter3d"
           }
          ],
          "scattercarpet": [
           {
            "marker": {
             "colorbar": {
              "outlinewidth": 0,
              "ticks": ""
             }
            },
            "type": "scattercarpet"
           }
          ],
          "scattergeo": [
           {
            "marker": {
             "colorbar": {
              "outlinewidth": 0,
              "ticks": ""
             }
            },
            "type": "scattergeo"
           }
          ],
          "scattergl": [
           {
            "marker": {
             "colorbar": {
              "outlinewidth": 0,
              "ticks": ""
             }
            },
            "type": "scattergl"
           }
          ],
          "scattermapbox": [
           {
            "marker": {
             "colorbar": {
              "outlinewidth": 0,
              "ticks": ""
             }
            },
            "type": "scattermapbox"
           }
          ],
          "scatterpolar": [
           {
            "marker": {
             "colorbar": {
              "outlinewidth": 0,
              "ticks": ""
             }
            },
            "type": "scatterpolar"
           }
          ],
          "scatterpolargl": [
           {
            "marker": {
             "colorbar": {
              "outlinewidth": 0,
              "ticks": ""
             }
            },
            "type": "scatterpolargl"
           }
          ],
          "scatterternary": [
           {
            "marker": {
             "colorbar": {
              "outlinewidth": 0,
              "ticks": ""
             }
            },
            "type": "scatterternary"
           }
          ],
          "surface": [
           {
            "colorbar": {
             "outlinewidth": 0,
             "ticks": ""
            },
            "colorscale": [
             [
              0,
              "#0d0887"
             ],
             [
              0.1111111111111111,
              "#46039f"
             ],
             [
              0.2222222222222222,
              "#7201a8"
             ],
             [
              0.3333333333333333,
              "#9c179e"
             ],
             [
              0.4444444444444444,
              "#bd3786"
             ],
             [
              0.5555555555555556,
              "#d8576b"
             ],
             [
              0.6666666666666666,
              "#ed7953"
             ],
             [
              0.7777777777777778,
              "#fb9f3a"
             ],
             [
              0.8888888888888888,
              "#fdca26"
             ],
             [
              1,
              "#f0f921"
             ]
            ],
            "type": "surface"
           }
          ],
          "table": [
           {
            "cells": {
             "fill": {
              "color": "#EBF0F8"
             },
             "line": {
              "color": "white"
             }
            },
            "header": {
             "fill": {
              "color": "#C8D4E3"
             },
             "line": {
              "color": "white"
             }
            },
            "type": "table"
           }
          ]
         },
         "layout": {
          "annotationdefaults": {
           "arrowcolor": "#2a3f5f",
           "arrowhead": 0,
           "arrowwidth": 1
          },
          "autotypenumbers": "strict",
          "coloraxis": {
           "colorbar": {
            "outlinewidth": 0,
            "ticks": ""
           }
          },
          "colorscale": {
           "diverging": [
            [
             0,
             "#8e0152"
            ],
            [
             0.1,
             "#c51b7d"
            ],
            [
             0.2,
             "#de77ae"
            ],
            [
             0.3,
             "#f1b6da"
            ],
            [
             0.4,
             "#fde0ef"
            ],
            [
             0.5,
             "#f7f7f7"
            ],
            [
             0.6,
             "#e6f5d0"
            ],
            [
             0.7,
             "#b8e186"
            ],
            [
             0.8,
             "#7fbc41"
            ],
            [
             0.9,
             "#4d9221"
            ],
            [
             1,
             "#276419"
            ]
           ],
           "sequential": [
            [
             0,
             "#0d0887"
            ],
            [
             0.1111111111111111,
             "#46039f"
            ],
            [
             0.2222222222222222,
             "#7201a8"
            ],
            [
             0.3333333333333333,
             "#9c179e"
            ],
            [
             0.4444444444444444,
             "#bd3786"
            ],
            [
             0.5555555555555556,
             "#d8576b"
            ],
            [
             0.6666666666666666,
             "#ed7953"
            ],
            [
             0.7777777777777778,
             "#fb9f3a"
            ],
            [
             0.8888888888888888,
             "#fdca26"
            ],
            [
             1,
             "#f0f921"
            ]
           ],
           "sequentialminus": [
            [
             0,
             "#0d0887"
            ],
            [
             0.1111111111111111,
             "#46039f"
            ],
            [
             0.2222222222222222,
             "#7201a8"
            ],
            [
             0.3333333333333333,
             "#9c179e"
            ],
            [
             0.4444444444444444,
             "#bd3786"
            ],
            [
             0.5555555555555556,
             "#d8576b"
            ],
            [
             0.6666666666666666,
             "#ed7953"
            ],
            [
             0.7777777777777778,
             "#fb9f3a"
            ],
            [
             0.8888888888888888,
             "#fdca26"
            ],
            [
             1,
             "#f0f921"
            ]
           ]
          },
          "colorway": [
           "#636efa",
           "#EF553B",
           "#00cc96",
           "#ab63fa",
           "#FFA15A",
           "#19d3f3",
           "#FF6692",
           "#B6E880",
           "#FF97FF",
           "#FECB52"
          ],
          "font": {
           "color": "#2a3f5f"
          },
          "geo": {
           "bgcolor": "white",
           "lakecolor": "white",
           "landcolor": "#E5ECF6",
           "showlakes": true,
           "showland": true,
           "subunitcolor": "white"
          },
          "hoverlabel": {
           "align": "left"
          },
          "hovermode": "closest",
          "mapbox": {
           "style": "light"
          },
          "paper_bgcolor": "white",
          "plot_bgcolor": "#E5ECF6",
          "polar": {
           "angularaxis": {
            "gridcolor": "white",
            "linecolor": "white",
            "ticks": ""
           },
           "bgcolor": "#E5ECF6",
           "radialaxis": {
            "gridcolor": "white",
            "linecolor": "white",
            "ticks": ""
           }
          },
          "scene": {
           "xaxis": {
            "backgroundcolor": "#E5ECF6",
            "gridcolor": "white",
            "gridwidth": 2,
            "linecolor": "white",
            "showbackground": true,
            "ticks": "",
            "zerolinecolor": "white"
           },
           "yaxis": {
            "backgroundcolor": "#E5ECF6",
            "gridcolor": "white",
            "gridwidth": 2,
            "linecolor": "white",
            "showbackground": true,
            "ticks": "",
            "zerolinecolor": "white"
           },
           "zaxis": {
            "backgroundcolor": "#E5ECF6",
            "gridcolor": "white",
            "gridwidth": 2,
            "linecolor": "white",
            "showbackground": true,
            "ticks": "",
            "zerolinecolor": "white"
           }
          },
          "shapedefaults": {
           "line": {
            "color": "#2a3f5f"
           }
          },
          "ternary": {
           "aaxis": {
            "gridcolor": "white",
            "linecolor": "white",
            "ticks": ""
           },
           "baxis": {
            "gridcolor": "white",
            "linecolor": "white",
            "ticks": ""
           },
           "bgcolor": "#E5ECF6",
           "caxis": {
            "gridcolor": "white",
            "linecolor": "white",
            "ticks": ""
           }
          },
          "title": {
           "x": 0.05
          },
          "xaxis": {
           "automargin": true,
           "gridcolor": "white",
           "linecolor": "white",
           "ticks": "",
           "title": {
            "standoff": 15
           },
           "zerolinecolor": "white",
           "zerolinewidth": 2
          },
          "yaxis": {
           "automargin": true,
           "gridcolor": "white",
           "linecolor": "white",
           "ticks": "",
           "title": {
            "standoff": 15
           },
           "zerolinecolor": "white",
           "zerolinewidth": 2
          }
         }
        },
        "title": {
         "text": "CGPA distribution in each team in Tutorial Group 1"
        },
        "xaxis": {
         "anchor": "y",
         "domain": [
          0,
          1
         ],
         "title": {
          "text": "CGPA"
         }
        },
        "yaxis": {
         "anchor": "x",
         "domain": [
          0,
          1
         ],
         "title": {
          "text": "Team"
         }
        }
       }
      }
     },
     "metadata": {},
     "output_type": "display_data"
    },
    {
     "data": {
      "image/png": "[encoded data removed]",
      "text/plain": [
       "<Figure size 2000x700 with 1 Axes>"
      ]
     },
     "metadata": {},
     "output_type": "display_data"
    },
    {
     "data": {
      "image/png": "[encoded data removed]",
      "text/plain": [
       "<Figure size 1000x700 with 1 Axes>"
      ]
     },
     "metadata": {},
     "output_type": "display_data"
    }
   ],
   "source": [
    "if __name__ == \"__main__\":\n",
    "    main_graph()"
   ]
  },
  {
   "cell_type": "markdown",
   "metadata": {},
   "source": [
    "![CGPA Distribution](./assets/images/cgpa_distribution.png)\n",
    "\n",
    "![School Distribution](./assets/images/school_distribution.png)\n",
    "\n",
    "![Gender Distribution](./assets/images/gender_distribution.png)"
   ]
  },
  {
   "cell_type": "markdown",
   "metadata": {},
   "source": [
    "---\n",
    "\n",
    "# Challenges & Solution\n",
    "\n",
    "---\n",
    "\n",
    "### Challenge: Handling Empty Groups (Gender Splitting)\n",
    "- **Problem**: Some M/F groups may have no students, leading to empty groupings.\n",
    "- **Solution**: The `split_students_by_gender` method checks for empty gender lists and removes irrelevant groups:\n",
    "    - If the male list is empty, it is removed.\n",
    "    - If the female list is empty, it is removed.\n",
    "    This ensures only non-empty gender groups remain, making the output cleaner.\n",
    "\n",
    "---\n",
    "\n",
    "### Challenge: Managing Group Sizes (CGPA Splitting)\n",
    "- **Problem**: When dividing students by CGPA, groups can become uneven if the number of students isn't perfectly divisible by the desired number of groups.\n",
    "- **Solution**: The code calculates the number of students per CGPA group using `cutoff = CEILING((percentile / 100) * LENGTH(students))`. This ensures that each group has at least the intended minimum number of students, even if the group sizes vary slightly. For example, with 23 students and 4 CGPA groups, the cutoff becomes 5.75 (25% of 23), which rounds up to 6, keeping group sizes balanced.\n",
    "\n",
    "---\n",
    "\n",
    "### Challenge: Handling Edge Cases (CGPA Splitting)\n",
    "- **Problem**: With fewer students than groups, some groups may end up empty.\n",
    "- **Solution**: The while loop (`WHILE band_number < size`) ensures students are distributed into available groups, leaving empty groups if there are fewer students than groups. This prevents errors and ensures smooth execution.\n",
    "**Challenge:** \n",
    "Initially, students were ordered by `school -> cgpa -> gender`, but this led to a lack of student diversity for the last few tutorial groups, as they had a majority of males/females.\n",
    "\n",
    "**Solution:** \n",
    "A function `sort_students()` was created to reorganize the 3 factors (`school`, `gender`, `cgpa`). The function splits students starting from the factor with the least number of unique elements and progresses to the factor with the most number of unique elements. \n",
    "\n",
    "This approach ensures greater diversity, as more students are available for selection when moving to the next factor, promoting diversity even towards the end of the sorting process.\n",
    "\n",
    "---\n",
    "# Improving Randomness in Random Number Generation\n",
    "\n",
    "### Initial Approach: Using `random.random()`\n",
    "- Initially, we used `random.random()` to generate random values.\n",
    "- This method wasn’t truly random because the generated numbers followed a predictable distribution.\n",
    "- As a result, the sequence of values could be reproduced, making the randomness appear fixed.\n",
    "\n",
    "\n",
    "\n",
    "\n",
    "          ### Improved Approach: Using `random.seed()` with Current Timestamp\n",
    "- We switched to using `random.seed()` with `datetime.datetime.now().timestamp()` to increase randomness.\n",
    "\n",
    "#### How It Works:\n",
    "1. **Generate Timestamp**: \n",
    "   - `datetime.datetime.now().timestamp()` provides the current timestamp, which represents a specific point in time, including fractional seconds.\n",
    "   \n",
    "2. **Use Timestamp as Seed**:\n",
    "   - We use this timestamp as the seed for `random.seed()`.\n",
    "   - By seeding the random number generator with the current timestamp, each run of the program produces a different sequence of random numbers.\n",
    "\n",
    "---\n",
    "\n",
    "### Benefit of Using `random.seed()` with Timestamp\n",
    "- This approach introduces true randomness, as the sequence of random numbers will differ each time the program runs, based on the current timestamp.\n",
    "\n",
    "# Handling Imbalance in Student Distribution Across Schools and Genders\n",
    "\n",
    "### Problem: Imbalance in the Number of Students\n",
    "- Due to an imbalance in the number of students across different schools and genders:\n",
    "  - Some schools or genders may end up with no profiles/students after rounds of selection.\n",
    "- Using `deepcopy` to copy the original list can lead to issues when using `random.choice`:\n",
    "  - If `random.choice` selects a school or gender with an empty profile, this results in a `KeyError`.\n",
    "\n",
    "---\n",
    "\n",
    "### Solution: Using `TryExcept` Handling\n",
    "To address this issue, we use a `try-except` block to manage errors that may occur due to empty selections.\n",
    "\n",
    "1. **Handle Potential Errors**:\n",
    "   - If an `IndexError` or `KeyError` occurs during selection:\n",
    "     - Remove the current choice from `*_choices_not_chosen` lists as needed to prevent repeated errors.\n",
    "\n",
    "2. **Reset Lists When Empty**:\n",
    "   - If the lists are entirely empty, reset them to their original copies using `deepcopy`.\n",
    "   - Continue the selection process with the reset lists.\n",
    "\n",
    "---\n",
    "\n",
    "\n",
    "\n",
    "### Benefits of This Approach\n",
    "- This method ensures that empty selections do not cause the program to crash.\n",
    "- By resetting lists as needed, the program can continue selecting students even when certain schools or genders have limited profiles available.\n",
    "\n",
    "**Challenge:** \n",
    "Initially, students were ordered by `school -> cgpa -> gender`, but this led to a lack of student diversity for the last few tutorial groups, as they had a majority of males/females.\n",
    "\n",
    "**Solution:** \n",
    "A function `sort_students()` was created to reorganize the 3 factors (`school`, `gender`, `cgpa`). The function splits students starting from the factor with the least number of unique elements and progresses to the factor with the most number of unique elements. \n",
    "\n",
    "This approach ensures greater diversity, as more students are available for selection when moving to the next factor, promoting diversity even towards the end of the sorting process.\n",
    "\n",
    "\n",
    "\n",
    "---"
   ]
  },
  {
   "cell_type": "markdown",
   "metadata": {},
   "source": [
    "\n",
    "      ████████╗██╗  ██╗ █████╗ ███╗   ██╗██╗  ██╗    ██╗   ██╗ ██████╗ ██╗   ██╗\n",
    "      ╚══██╔══╝██║  ██║██╔══██╗████╗  ██║██║ ██╔╝    ╚██╗ ██╔╝██╔═══██╗██║   ██║\n",
    "         ██║   ███████║███████║██╔██╗ ██║█████╔╝      ╚████╔╝ ██║   ██║██║   ██║\n",
    "         ██║   ██╔══██║██╔══██║██║╚██╗██║██╔═██╗       ╚██╔╝  ██║   ██║██║   ██║\n",
    "         ██║   ██║  ██║██║  ██║██║ ╚████║██║  ██╗       ██║   ╚██████╔╝╚██████╔╝\n",
    "         ╚═╝   ╚═╝  ╚═╝╚═╝  ╚═╝╚═╝  ╚═══╝╚═╝  ╚═╝       ╚═╝    ╚═════╝  ╚═════╝ \n"
   ]
  }
 ],
 "metadata": {
  "colab": {
   "provenance": []
  },
  "kernelspec": {
   "display_name": "Python 3",
   "language": "python",
   "name": "python3"
  },
  "language_info": {
   "codemirror_mode": {
    "name": "ipython",
    "version": 3
   },
   "file_extension": ".py",
   "mimetype": "text/x-python",
   "name": "python",
   "nbconvert_exporter": "python",
   "pygments_lexer": "ipython3",
   "version": "3.12.5"
  }
 },
 "nbformat": 4,
 "nbformat_minor": 0
}
